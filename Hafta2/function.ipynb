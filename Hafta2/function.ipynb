{
 "cells": [
  {
   "cell_type": "code",
   "execution_count": 103,
   "metadata": {},
   "outputs": [],
   "source": [
    "def function():\n",
    "    x = \"Veri Bilimi\"\n",
    "    y = x.upper()\n",
    "    z = y[5:10]\n",
    "    print(z)\n",
    "    a = [\"İstanbul\",\"Ankara\",\"İzmir\",\"Bursa\"]\n",
    "    a.append(\"Eskişehir\")\n",
    "    a.sort()\n",
    "    print(a)\n",
    "    for i in a:\n",
    "        if len(i) > 7:\n",
    "            print(i)\n",
    "    m = x.count(\"i\")\n",
    "    return m + len(a) "
   ]
  },
  {
   "cell_type": "code",
   "execution_count": 104,
   "metadata": {},
   "outputs": [
    {
     "name": "stdout",
     "output_type": "stream",
     "text": [
      "BILIM\n",
      "['Ankara', 'Bursa', 'Eskişehir', 'İstanbul', 'İzmir']\n",
      "Eskişehir\n",
      "İstanbul\n"
     ]
    },
    {
     "data": {
      "text/plain": [
       "9"
      ]
     },
     "execution_count": 104,
     "metadata": {},
     "output_type": "execute_result"
    }
   ],
   "source": [
    "function()"
   ]
  }
 ],
 "metadata": {
  "kernelspec": {
   "display_name": "Python 3",
   "language": "python",
   "name": "python3"
  },
  "language_info": {
   "codemirror_mode": {
    "name": "ipython",
    "version": 3
   },
   "file_extension": ".py",
   "mimetype": "text/x-python",
   "name": "python",
   "nbconvert_exporter": "python",
   "pygments_lexer": "ipython3",
   "version": "3.7.6"
  }
 },
 "nbformat": 4,
 "nbformat_minor": 4
}
